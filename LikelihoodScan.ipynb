{
 "cells": [
  {
   "cell_type": "code",
   "execution_count": 1,
   "metadata": {},
   "outputs": [],
   "source": [
    "import numpy as np\n",
    "import matplotlib.pyplot as plt\n",
    "\n",
    "from coffea import util, hist\n"
   ]
  },
  {
   "cell_type": "code",
   "execution_count": 2,
   "metadata": {},
   "outputs": [],
   "source": [
    "outputMC = util.load('ttgammaMC.coffea')\n",
    "outputData = util.load('ttgammaData.coffea')"
   ]
  },
  {
   "cell_type": "code",
   "execution_count": 3,
   "metadata": {},
   "outputs": [],
   "source": [
    "grouping= {'ttgamma': ['TTGamma_Dilepton','TTGamma_SingleLept','TTGamma_Hadronic'],\n",
    "           'ttbar'  : ['TTbarPowheg_Dilepton', 'TTbarPowheg_Semilept', 'TTbarPowheg_Hadronic'],\n",
    "           'Single top':['ST_s_channel', 'ST_tW_channel', 'ST_tbarW_channel', 'ST_tbar_channel', 'ST_t_channel'],\n",
    "           'Wgamma' : ['WGamma_01J_5f'],\n",
    "           'Zgamma' : ['ZGamma_01J_5f_lowMass'],\n",
    "           'Other'    : ['TTWtoLNu','TTWtoQQ','TTZtoLL','W1jets', 'W2jets', 'W3jets', 'W4jets','DYjetsM10to50', 'DYjetsM50','GJets_HT40To100', 'GJets_HT100To200', 'GJets_HT200To400', 'GJets_HT400To600', 'GJets_HT600ToInf', 'QCD_Pt20to30_Ele', 'QCD_Pt30to50_Ele', 'QCD_Pt50to80_Ele', 'QCD_Pt80to120_Ele', 'QCD_Pt120to170_Ele', 'QCD_Pt170to300_Ele', 'QCD_Pt300toInf_Ele', 'QCD_Pt20to30_Mu', 'QCD_Pt30to50_Mu', 'QCD_Pt50to80_Mu', 'QCD_Pt80to120_Mu', 'QCD_Pt120to170_Mu', 'QCD_Pt170to300_Mu', 'QCD_Pt300to470_Mu', 'QCD_Pt470to600_Mu', 'QCD_Pt600to800_Mu', 'QCD_Pt800to1000_Mu', 'QCD_Pt1000toInf_Mu']\n",
    "          }\n"
   ]
  },
  {
   "cell_type": "code",
   "execution_count": 4,
   "metadata": {},
   "outputs": [],
   "source": [
    "h = outputMC['M3'].sum('lepFlavor').sum('M3').group('dataset',hist.Cat(r'dataset',r'Samples'),grouping)\n",
    "h = h.rebin('category',hist.Bin('category',r\"Photon Category\",[1,2,3,5]))"
   ]
  },
  {
   "cell_type": "code",
   "execution_count": 5,
   "metadata": {},
   "outputs": [],
   "source": [
    "vals = h.values()\n",
    "mcYield = []\n",
    "for s in vals:\n",
    "    mcYield.append(vals[s])\n",
    "mcYield = np.array(mcYield)\n",
    "\n",
    "errs = h._sumw2\n",
    "mcYieldErr = []\n",
    "for s in errs:\n",
    "    mcYieldErr.append(errs[s][1:4]**0.5)\n",
    "mcYieldErr = np.array(mcYieldErr)"
   ]
  },
  {
   "cell_type": "code",
   "execution_count": 6,
   "metadata": {},
   "outputs": [],
   "source": [
    "misIDEleSF = 2.1\n",
    "WGammaSF = 1.2\n",
    "ZGammaSF = 1.05\n",
    "\n",
    "mcYield[:,1] *= misIDEleSF\n",
    "mcYieldErr[:,1] *= misIDEleSF\n",
    "\n",
    "mcYield[3] *= WGammaSF\n",
    "mcYieldErr[3] *= WGammaSF\n",
    "\n",
    "mcYield[4] *= ZGammaSF\n",
    "mcYieldErr[4] *= ZGammaSF\n"
   ]
  },
  {
   "cell_type": "code",
   "execution_count": 7,
   "metadata": {},
   "outputs": [
    {
     "name": "stdout",
     "output_type": "stream",
     "text": [
      "[[5.56633841e+03 1.22183036e+01 5.86736213e+01]\n",
      " [1.12446158e+02 7.68644137e+02 1.28489836e+03]\n",
      " [3.85338879e+02 2.38013252e+01 6.05248694e+01]\n",
      " [1.82031840e+02 0.00000000e+00 1.35358155e+00]\n",
      " [1.97274287e+02 8.35469681e-01 1.24528015e+00]\n",
      " [4.53167507e+02 1.69008183e+02 1.35290735e+02]]\n",
      "[[ 12.90693506   0.6586112    1.33137819]\n",
      " [  2.52741151   8.54140707  11.48352856]\n",
      " [  9.21600012   3.55572423   3.70133481]\n",
      " [ 15.9953448    0.           1.35358155]\n",
      " [  8.88303697   0.83546968   0.71903087]\n",
      " [194.19563926  20.50564518  34.74202914]]\n"
     ]
    }
   ],
   "source": [
    "print(mcYield)\n",
    "\n",
    "print(mcYieldErr)"
   ]
  },
  {
   "cell_type": "code",
   "execution_count": 8,
   "metadata": {},
   "outputs": [],
   "source": [
    "def getPseudoData(mcYield, mcYieldErr, ttgammaSF=1., npSF=1., asimov=False):\n",
    "    mcYieldTest = mcYield.copy()\n",
    "    mcYieldTest[0] *=  ttgammaSF\n",
    "    mcYieldTest[:,2] *= npSF\n",
    "    \n",
    "    if not asimov:\n",
    "        mcYieldTest = np.random.poisson(mcYieldTest)\n",
    "\n",
    "    photonPurity = mcYieldTest[:,:2].sum()/mcYieldTest.sum()\n",
    "    photonPurityErr = 0.04\n",
    "\n",
    "    topPurity = mcYieldTest[:2].sum()/mcYieldTest.sum()\n",
    "    topPurityErr = 0.02\n",
    "\n",
    "    nData = mcYieldTest.sum()\n",
    "\n",
    "    return photonPurity, photonPurityErr, topPurity, topPurityErr, nData\n"
   ]
  },
  {
   "cell_type": "code",
   "execution_count": 9,
   "metadata": {},
   "outputs": [],
   "source": [
    "#import numba\n",
    "\n",
    "def likelihoodFunction(ttgammaSF=1., nonPromptSF=1., mcValues=None, mcValuesErr=None, photonPurity=None, topPurity=None, nData = None, photonPurityErr=None, topPurityErr=None):\n",
    "    mcValues[0] *= ttgammaSF\n",
    "    mcValuesErr[0] *= ttgammaSF\n",
    "\n",
    "    mcValues[:,-1] *= nonPromptSF\n",
    "    mcValuesErr[:,-1] *= nonPromptSF\n",
    "    \n",
    "    nMC = mcValues.sum()\n",
    "    nMCErr = (mcValuesErr**2).sum()**0.5\n",
    "\n",
    "    #nIso is the sum of the first two columsn of data (genuine and misID)\n",
    "    nIso = mcValues[:,0:2].sum()\n",
    "    nIsoErr = (mcValuesErr[:,0:2]**2).sum()**0.5\n",
    "\n",
    "    #nTop is the sum of the first two rows (ttgamma and ttbar)\n",
    "    nTop = mcValues[0:2].sum()\n",
    "    nTopErr = (mcValuesErr[0:2]**2).sum()**0.5\n",
    "\n",
    "    mcPhotonPurity    = nIso/nMC\n",
    "    mcPhotonPurityErr = (mcPhotonPurity) * ((nIsoErr/nIso)**2 + (nMCErr/nMC)**2)**0.5\n",
    "\n",
    "    mcTopPurity = nTop/nMC\n",
    "    mcTopPurityErr = mcTopPurity * ((nTopErr/nTop)**2 + (nMCErr/nMC)**2)**0.5\n",
    "    \n",
    "    \n",
    "    chi2 = ((photonPurity-mcPhotonPurity)**2/(photonPurityErr**2 + mcPhotonPurityErr**2) + \n",
    "            (topPurity - mcTopPurity)**2/(topPurityErr**2 + mcTopPurityErr**2) +\n",
    "            (nData - nMC)**2/(nData + nMCErr**2)\n",
    "           )\n",
    "    \n",
    "    return np.exp(-0.5*chi2)\n",
    "                \n",
    "    "
   ]
  },
  {
   "cell_type": "code",
   "execution_count": 10,
   "metadata": {},
   "outputs": [],
   "source": [
    "def maximizeLikelihood(fitData, \n",
    "                       ttgSF = None, nonPromptSF=None, \n",
    "                       startTTGamma = 1., startNonprompt = 1., \n",
    "                       nSteps = 100,\n",
    "                       verbose=False, \n",
    "                       find1sigma = False, \n",
    "                       nStepsErr = 20):\n",
    "\n",
    "\n",
    "    mcYield=fitData['mcYield']\n",
    "    mcYieldErr=fitData['mcYieldErr']\n",
    "    photonPurity=fitData['photonPurity']\n",
    "    photonPurityErr=fitData['photonPurityErr']\n",
    "    topPurity=fitData['topPurity']\n",
    "    topPurityErr=fitData['topPurityErr']\n",
    "    nData=fitData['nData']\n",
    "    \n",
    "    \n",
    "    if ttgSF is None:\n",
    "        ttgSF=startTTGamma\n",
    "        iTTGSteps = range(3)\n",
    "    else:\n",
    "        iTTGSteps = [1]\n",
    "\n",
    "    if nonPromptSF is None:\n",
    "        nonPromptSF=startNonprompt\n",
    "        iNPSteps = range(3)\n",
    "    else:\n",
    "        iNPSteps = [1]\n",
    "        \n",
    "    stepSize = 0.1\n",
    "    \n",
    "    lastStepLk = -1.\n",
    "\n",
    "    for steps in range(nSteps):\n",
    "\n",
    "        best_lk = -1\n",
    "        best_iTTG = -1\n",
    "        best_iNP = -1\n",
    "        \n",
    "        for iTTG in iTTGSteps:\n",
    "            for iNP in iNPSteps:\n",
    "                lk = likelihoodFunction(ttgammaSF = ttgSF + (iTTG-1)*stepSize , \n",
    "                                        nonPromptSF=nonPromptSF + (iNP-1)*stepSize, \n",
    "                                        mcValues=mcYield.copy(), mcValuesErr=mcYieldErr.copy(),\n",
    "                                        photonPurity=photonPurity, topPurity=topPurity, \n",
    "                                        photonPurityErr=photonPurityErr, topPurityErr=topPurityErr, \n",
    "                                        nData=nData)\n",
    "\n",
    "                if lk > best_lk:\n",
    "                    best_lk = lk\n",
    "                    best_iTTG = iTTG\n",
    "                    best_iNP = iNP\n",
    "\n",
    "        ttgSF = ttgSF+(best_iTTG-1)*stepSize\n",
    "        nonPromptSF = nonPromptSF + (best_iNP-1)*stepSize\n",
    "\n",
    "        if best_iTTG==best_iNP==1:\n",
    "            stepSize = stepSize/2.\n",
    "            lastStepLk=-1.\n",
    "\n",
    "        if verbose:\n",
    "            print(steps, ttgSF, nonPromptSF, stepSize, best_lk)\n",
    "            \n",
    "    if find1sigma:\n",
    "\n",
    "        ### scan for ttgSF down\n",
    "        ttgammaErr = 0.1\n",
    "        stepSize = 0.1\n",
    "        trend = 1\n",
    "        for step in range(nStepsErr):\n",
    "            _,_,_lk = maximizeLikelihood(fitData, \n",
    "                                         ttgSF = ttgSF - ttgammaErr, \n",
    "                                         nonPromptSF=None, \n",
    "                                         nSteps = 50,\n",
    "                                    )\n",
    "\n",
    "\n",
    "            NLL = -2*np.log(_lk/best_lk)\n",
    "\n",
    "            if NLL < 1:\n",
    "                if trend== -1:\n",
    "                    stepSize /= 2.\n",
    "                ttgammaErr += stepSize\n",
    "                trend=1\n",
    "            else:\n",
    "                if trend==1:\n",
    "                    stepSize /= 2.\n",
    "                ttgammaErr -= stepSize\n",
    "                trend=-1\n",
    "        ttgammaDown = -1*ttgammaErr\n",
    "\n",
    "        ### scan for ttgSF up\n",
    "        ttgammaErr = 0.1\n",
    "        stepSize = 0.1\n",
    "        trend = 1\n",
    "        for step in range(nStepsErr):\n",
    "            _,_,_lk = maximizeLikelihood(fitData, \n",
    "                                         ttgSF = ttgSF + ttgammaErr, \n",
    "                                         nonPromptSF=None, \n",
    "                                         nSteps = 50,\n",
    "                                        )\n",
    "\n",
    "            NLL = -2*np.log(_lk/best_lk)\n",
    "\n",
    "            if NLL < 1:\n",
    "                if trend== -1:\n",
    "                    stepSize /= 2.\n",
    "                ttgammaErr += stepSize\n",
    "                trend=1\n",
    "            else:\n",
    "                if trend==1:\n",
    "                    stepSize /= 2.\n",
    "                ttgammaErr -= stepSize\n",
    "                trend=-1\n",
    "        ttgammaUp = ttgammaErr\n",
    "\n",
    "        ### scan for npSF down\n",
    "        npErr = 0.1\n",
    "        stepSize = 0.1\n",
    "        trend = 1\n",
    "        for step in range(nStepsErr):\n",
    "            _,_,_lk = maximizeLikelihood(fitData, \n",
    "                                         ttgSF = None, \n",
    "                                         nonPromptSF=nonPromptSF - npErr, \n",
    "                                         nSteps = 50,\n",
    "                                        )            \n",
    "\n",
    "            NLL = -2*np.log(_lk/best_lk)\n",
    "\n",
    "            if NLL < 1:\n",
    "                if trend== -1:\n",
    "                    stepSize /= 2.\n",
    "                npErr += stepSize\n",
    "                trend=1\n",
    "            else:\n",
    "                if trend==1:\n",
    "                    stepSize /= 2.\n",
    "                npErr -= stepSize\n",
    "                trend=-1\n",
    "        nonPromptDown = -1*npErr\n",
    "\n",
    "        ### scan for npSF up        \n",
    "        npErr = 0.1\n",
    "        stepSize = 0.1\n",
    "        trend = 1\n",
    "        for step in range(nStepsErr):\n",
    "            _,_,_lk = maximizeLikelihood(fitData, \n",
    "                                         ttgSF = None, \n",
    "                                         nonPromptSF=nonPromptSF + npErr,\n",
    "                                         nSteps = 50,                                         \n",
    "                                        )            \n",
    "\n",
    "            NLL = -2*np.log(_lk/best_lk)\n",
    "\n",
    "            if NLL < 1:\n",
    "                if trend== -1:\n",
    "                    stepSize /= 2.\n",
    "                npErr += stepSize\n",
    "                trend=1\n",
    "            else:\n",
    "                if trend==1:\n",
    "                    stepSize /= 2.\n",
    "                npErr -= stepSize\n",
    "                trend=-1\n",
    "        nonPromptUp = npErr        \n",
    "        \n",
    "        return ttgSF, ttgammaUp, ttgammaDown, nonPromptSF, nonPromptUp, nonPromptDown, best_lk\n",
    "        \n",
    "    else:\n",
    "        return ttgSF, nonPromptSF, best_lk\n"
   ]
  },
  {
   "cell_type": "code",
   "execution_count": null,
   "metadata": {},
   "outputs": [],
   "source": []
  },
  {
   "cell_type": "code",
   "execution_count": 11,
   "metadata": {},
   "outputs": [],
   "source": [
    "photonPurity, photonPurityErr, topPurity, topPurityErr, nData = getPseudoData(mcYield, \n",
    "                                                                              mcYieldErr, \n",
    "                                                                              ttgammaSF=1., \n",
    "                                                                              npSF = 1.)"
   ]
  },
  {
   "cell_type": "code",
   "execution_count": 12,
   "metadata": {},
   "outputs": [],
   "source": [
    "fitData = {\n",
    "    'mcYield':mcYield, \n",
    "    'mcYieldErr':mcYieldErr,\n",
    "    'photonPurity':photonPurity, \n",
    "    'photonPurityErr':photonPurityErr, \n",
    "    'topPurity':topPurity, \n",
    "    'topPurityErr':topPurityErr, \n",
    "    'nData':nData, \n",
    "}"
   ]
  },
  {
   "cell_type": "code",
   "execution_count": 13,
   "metadata": {},
   "outputs": [
    {
     "name": "stdout",
     "output_type": "stream",
     "text": [
      "TTGamma SF = 1.0072 +0.0863 -0.0847\n",
      "nonPrompt SF = 0.9738 +0.2927 -0.2936\n"
     ]
    }
   ],
   "source": [
    "output = maximizeLikelihood(fitData,\n",
    "                            nSteps=100, \n",
    "                            find1sigma=True, \n",
    "                            nStepsErr=100, \n",
    "                            startTTGamma=1,\n",
    "                            startNonprompt=1\n",
    "                           )\n",
    "bestTTGSF, bestTTGSF_Up, bestTTGSF_Down, bestNPSF, bestNPSF_Up, bestNPSF_Down, mxLk = output                                                                                                         \n",
    "print(\"TTGamma SF = %.4f +%.4f %.4f\"%(bestTTGSF, bestTTGSF_Up, bestTTGSF_Down))\n",
    "print(\"nonPrompt SF = %.4f +%.4f %.4f\"%(bestNPSF, bestNPSF_Up, bestNPSF_Down))\n",
    "      "
   ]
  },
  {
   "cell_type": "code",
   "execution_count": 14,
   "metadata": {},
   "outputs": [
    {
     "data": {
      "image/png": "[encoded data removed]",
      "text/plain": [
       "<Figure size 432x288 with 1 Axes>"
      ]
     },
     "metadata": {},
     "output_type": "display_data"
    }
   ],
   "source": [
    "lkVals = []\n",
    "ttgVals = np.arange(0,2.,.01)\n",
    "for ttgSF in ttgVals:\n",
    "    _ttg, _np, _lk = maximizeLikelihood(fitData, ttgSF = ttgSF, nSteps=50)\n",
    "    lkVals.append(-2*np.log(_lk/mxLk))\n",
    "\n",
    "lkVals = np.array(lkVals)\n",
    "\n",
    "plt.scatter(ttgVals[lkVals<6],lkVals[lkVals<6],color='blue')\n",
    "plt.scatter(ttgVals[lkVals<4],lkVals[lkVals<4],color='yellow')\n",
    "plt.scatter(ttgVals[lkVals<1],lkVals[lkVals<1],color='green')\n",
    "plt.ylabel(\"2*NLL\")\n",
    "plt.xlabel(\"$t\\overline{t}\\gamma$ SF\")\n",
    "\n",
    "ttgVals2Sig = ttgVals[lkVals<5]\n",
    "\n",
    "\n"
   ]
  },
  {
   "cell_type": "code",
   "execution_count": 15,
   "metadata": {},
   "outputs": [
    {
     "data": {
      "image/png": "[encoded data removed]",
      "text/plain": [
       "<Figure size 432x288 with 1 Axes>"
      ]
     },
     "metadata": {},
     "output_type": "display_data"
    }
   ],
   "source": [
    "lkVals = []\n",
    "npVals = np.arange(0,2.,.01)\n",
    "for npSF in npVals:\n",
    "    _ttg, _np, _lk = maximizeLikelihood(fitData, nonPromptSF= npSF, nSteps=50)\n",
    "    lkVals.append(-2*np.log(_lk/mxLk))\n",
    "\n",
    "lkVals = np.array(lkVals)\n",
    "\n",
    "plt.scatter(npVals[lkVals<6],lkVals[lkVals<6],color='blue')\n",
    "plt.scatter(npVals[lkVals<4],lkVals[lkVals<4],color='yellow')\n",
    "plt.scatter(npVals[lkVals<1],lkVals[lkVals<1],color='green')\n",
    "plt.ylabel(\"2*NLL\")\n",
    "plt.xlabel(\"Nonprompt SF\")\n",
    "\n",
    "npVals2Sig = npVals[lkVals<5]\n",
    "\n",
    "\n"
   ]
  },
  {
   "cell_type": "code",
   "execution_count": null,
   "metadata": {},
   "outputs": [],
   "source": []
  },
  {
   "cell_type": "code",
   "execution_count": 16,
   "metadata": {},
   "outputs": [],
   "source": [
    "lkVals = []\n",
    "for npSF in npVals2Sig:\n",
    "    _lkVals = []\n",
    "    for ttg in ttgVals2Sig:\n",
    "        _ttg, _np, _lk = maximizeLikelihood(fitData, ttgSF= ttg, nonPromptSF= npSF, nSteps=1)\n",
    "        _lkVals.append(-2*np.log(_lk/mxLk))\n",
    "    lkVals.append(_lkVals)\n",
    "lkVals = np.array(lkVals)"
   ]
  },
  {
   "cell_type": "code",
   "execution_count": 17,
   "metadata": {},
   "outputs": [
    {
     "data": {
      "image/png": "[encoded data removed]",
      "text/plain": [
       "<Figure size 432x288 with 1 Axes>"
      ]
     },
     "metadata": {},
     "output_type": "display_data"
    }
   ],
   "source": [
    "plt.contourf(ttgVals2Sig, npVals2Sig, lkVals, [0,1,4],colors=['green','yellow'])\n",
    "plt.plot(bestTTGSF, bestNPSF,marker='+',color='black',markersize=12,markeredgewidth=3);\n"
   ]
  },
  {
   "cell_type": "code",
   "execution_count": null,
   "metadata": {},
   "outputs": [],
   "source": []
  }
 ],
 "metadata": {
  "kernelspec": {
   "display_name": "Python 3",
   "language": "python",
   "name": "python3"
  },
  "language_info": {
   "codemirror_mode": {
    "name": "ipython",
    "version": 3
   },
   "file_extension": ".py",
   "mimetype": "text/x-python",
   "name": "python",
   "nbconvert_exporter": "python",
   "pygments_lexer": "ipython3",
   "version": "3.6.5"
  }
 },
 "nbformat": 4,
 "nbformat_minor": 2
}
