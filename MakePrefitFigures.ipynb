{
 "cells": [
  {
   "cell_type": "code",
   "execution_count": null,
   "metadata": {},
   "outputs": [],
   "source": [
    "import numpy as np\n",
    "\n",
    "import matplotlib.pyplot as plt\n",
    "from cycler import cycler\n",
    "from coffea import util\n",
    "from coffea.processor import accumulate\n",
    "import hist\n",
    "import hist.intervals\n",
    "\n",
    "from ttgamma.utils.plotting import RebinHist, SetRangeHist, GroupBy, plotWithRatio"
   ]
  },
  {
   "cell_type": "markdown",
   "metadata": {},
   "source": [
    "Load output files"
   ]
  },
  {
   "cell_type": "code",
   "execution_count": null,
   "metadata": {},
   "outputs": [],
   "source": [
    "# NOTE: your timestamps will differ!\n",
    "outputMC = accumulate(\n",
    "    [\n",
    "        util.load(\"Outputs/output_MCSingleTop_run20230110_130718.coffea\"),      \n",
    "        util.load(\"Outputs/output_MCTTbar1l_run20230110_132240.coffea\"),  \n",
    "        util.load(\"Outputs/output_MCTTbar2l_run20230110_141616.coffea\"),  \n",
    "        util.load(\"Outputs/output_MCTTGamma_run20230110_125711.coffea\"), \n",
    "        util.load(\"Outputs/output_MCWJets_run20230110_142511.coffea\"),\n",
    "        util.load(\"Outputs/output_MCZJets_run20230110_153411.coffea\"),\n",
    "        util.load(\"Outputs/output_MCOther_run20230110_133156.coffea\"),\n",
    "    ]\n",
    ")\n",
    "\n",
    "outputData = util.load(\"Outputs/output_Data_run20230110_124845.coffea\")"
   ]
  },
  {
   "cell_type": "markdown",
   "metadata": {},
   "source": [
    "Set up groupings of samples.\n",
    "Order of dictionary is used for determining plotting order"
   ]
  },
  {
   "cell_type": "code",
   "execution_count": null,
   "metadata": {},
   "outputs": [],
   "source": [
    "groupingCategory = {\n",
    "    \"NonPrompt\": [3j,4j],\n",
    "    \"MisID\": [2j],\n",
    "    \"Prompt\": [1j],\n",
    "}\n",
    "\n",
    "groupingFineCategory = {\n",
    "    \"Genuine Photon\": [1j],\n",
    "    \"Misidentified Electron\": [2j],\n",
    "    \"Hadronic Photon\": [3j],\n",
    "    \"Hadronic Fake\": [4j],\n",
    "}\n",
    "\n",
    "groupingMCDatasets = {\n",
    "    \"ZG\": [\n",
    "        \"ZGamma_01J_5f_lowMass\",\n",
    "    ],\n",
    "    \"WG\": [\n",
    "        \"WGamma\",\n",
    "    ],\n",
    "\n",
    "    \"other\": [\n",
    "        \"TTbarPowheg_Dilepton\",\n",
    "        \"TTbarPowheg_Semilept\",\n",
    "        \"TTbarPowheg_Hadronic\",\n",
    "        \"W2jets\",\n",
    "        \"W3jets\",\n",
    "        \"W4jets\",\n",
    "        \"DYjetsM50\",\n",
    "        \"ST_s_channel\",\n",
    "        \"ST_tW_channel\",\n",
    "        \"ST_tbarW_channel\",\n",
    "        \"ST_tbar_channel\",\n",
    "        \"ST_t_channel\",\n",
    "        \"TTWtoLNu\",\n",
    "        \"TTWtoQQ\",\n",
    "        \"TTZtoLL\",\n",
    "        \"GJets_HT200To400\",\n",
    "        \"GJets_HT400To600\",\n",
    "        \"GJets_HT600ToInf\",\n",
    "        \"ZZ\",\n",
    "        \"WZ\",\n",
    "        \"WW\",\n",
    "        \"TGJets\"\n",
    "    ],\n",
    "    \"ttgamma\": [\n",
    "        \"TTGamma_Dilepton\",\n",
    "        \"TTGamma_SingleLept\",\n",
    "        \"TTGamma_Hadronic\",\n",
    "    ],\n",
    "}"
   ]
  },
  {
   "cell_type": "code",
   "execution_count": null,
   "metadata": {},
   "outputs": [],
   "source": [
    "# Group MC histograms\n",
    "histList = []\n",
    "for samp, sampList in groupingMCDatasets.items():\n",
    "    histList += [outputMC[s] for s in sampList]\n",
    "\n",
    "outputMCHist = accumulate(histList)\n",
    "for key, histo in outputMCHist.items():\n",
    "    if isinstance(histo, hist.Hist):\n",
    "        outputMCHist[key] = GroupBy(histo, 'dataset', 'dataset', groupingMCDatasets)"
   ]
  },
  {
   "cell_type": "code",
   "execution_count": null,
   "metadata": {},
   "outputs": [],
   "source": [
    "# Group data histograms\n",
    "outputDataHist = accumulate([histo for key, histo in outputData.items()])"
   ]
  },
  {
   "cell_type": "code",
   "execution_count": null,
   "metadata": {},
   "outputs": [],
   "source": [
    "#Get photon pt distribution from coffea output\n",
    "#sum over lepton flavors (get both electron and muon)\n",
    "h = outputMCHist['photon_pt'][{'lepFlavor':sum}]\n",
    "\n",
    "#integrate over systematics, selecting only \"nominal\"\n",
    "h = h[{'systematic':'nominal'}]\n",
    "#group the photon category axis into the category types listed above\n",
    "h = GroupBy(h, 'category', 'category', groupingCategory)\n",
    "#rebin the pt axis\n",
    "new_bins = np.array([20,25,30,35,40,45,50,60,70,80,90,100,120,140,160,180,200,250,300,400,500])\n",
    "pt_axis = hist.axis.Variable(new_bins, name='pt', label=r\"$p_{T}$ [GeV]\");\n",
    "h = RebinHist(h,pt=pt_axis);\n",
    "\n",
    "hData = outputDataHist['photon_pt'][{'lepFlavor':sum,'systematic':sum,'category':sum,'dataset':sum}]\n",
    "hData = RebinHist(hData,pt=pt_axis);\n",
    "\n",
    "plotWithRatio(h[{'dataset':sum}], hData, overlay='category', xRange=[20,500], yRange=[0.01,None], logY=True, leg='right',binwnorm=1)\n",
    "plotWithRatio(h[{'category':sum}], hData, overlay='dataset', xRange=[20,500], yRange=[0.01,None], logY=True, leg='right',binwnorm=1)"
   ]
  },
  {
   "cell_type": "code",
   "execution_count": null,
   "metadata": {},
   "outputs": [],
   "source": [
    "# Can you draw similar plots for the photon eta?"
   ]
  },
  {
   "cell_type": "code",
   "execution_count": null,
   "metadata": {},
   "outputs": [],
   "source": [
    "h = outputMCHist['photon_chIso'][{'lepFlavor':sum,'systematic':'nominal'}]\n",
    "h = GroupBy(h, \"category\", \"category\", groupingCategory)\n",
    "\n",
    "s = hist.tag.Slicer()\n",
    "h = h[{'chIso':s[::hist.rebin(10)]}]\n",
    "\n",
    "hData = outputDataHist['photon_chIso']\n",
    "hData = hData[{'lepFlavor':sum,'systematic':sum,'category':sum,'dataset':sum}]\n",
    "hData = hData[{'chIso':s[::hist.rebin(10)]}]\n",
    "\n",
    "plotWithRatio(h[{'dataset':sum}].sort('category'), hData, overlay='category', xRange=[-.1,20], logY=True, leg='right')\n",
    "plotWithRatio(h[{'category':sum}], hData, overlay='dataset', xRange=[-.1,20], logY=True, leg='right')"
   ]
  },
  {
   "cell_type": "code",
   "execution_count": null,
   "metadata": {},
   "outputs": [],
   "source": [
    "h = outputMCHist['M3'][{'lepFlavor':'muon','systematic':'nominal'}]\n",
    "h = GroupBy(h, \"category\", \"category\", groupingCategory)\n",
    "\n",
    "s = hist.tag.Slicer()\n",
    "h = h[{'M3':s[::hist.rebin(5)]}]\n",
    "h = SetRangeHist(h,\"M3\",50,500)\n",
    "\n",
    "hData = outputDataHist['M3'][{'lepFlavor':'muon','systematic':sum,'category':sum,'dataset':sum}]\n",
    "hData = hData[{'M3':s[::hist.rebin(5)]}]\n",
    "hData = SetRangeHist(hData,\"M3\",50,500)\n",
    "\n",
    "plotWithRatio(h[{'dataset':sum}], hData, overlay='category', leg='right')\n",
    "plotWithRatio(h[{'category':sum}], hData, overlay='dataset', leg='right')"
   ]
  },
  {
   "cell_type": "code",
   "execution_count": null,
   "metadata": {},
   "outputs": [],
   "source": [
    "h = outputMCHist['M3'][{'lepFlavor':sum,'systematic':'nominal'}]\n",
    "h = GroupBy(h, \"category\", \"category\", groupingCategory)\n",
    "\n",
    "s = hist.tag.Slicer()\n",
    "h = h[{'M3':s[::hist.rebin(5)]}]\n",
    "h = SetRangeHist(h,\"M3\",50,500)\n",
    "\n",
    "hData = outputDataHist['M3'][{'lepFlavor':sum,'systematic':sum,'category':sum,'dataset':sum}]\n",
    "hData = hData[{'M3':s[::hist.rebin(5)]}]\n",
    "hData = SetRangeHist(hData,\"M3\",50,500)\n",
    "\n",
    "plotWithRatio(h[{'dataset':sum}], hData, overlay='category', leg='right')\n",
    "plotWithRatio(h[{'category':sum}], hData, overlay='dataset', leg='right')"
   ]
  },
  {
   "cell_type": "code",
   "execution_count": null,
   "metadata": {},
   "outputs": [],
   "source": [
    "h = outputMCHist['M3'][{'lepFlavor':sum,'systematic':'nominal'}]\n",
    "h = GroupBy(h, 'category', 'category', groupingFineCategory)\n",
    "\n",
    "s = hist.tag.Slicer()\n",
    "h = h[{'M3':s[::hist.rebin(5)]}]\n",
    "h = SetRangeHist(h,'M3',50,500)\n",
    "\n",
    "hData = outputDataHist['M3'][{'lepFlavor':sum,'systematic':sum,'category':sum,'dataset':sum}]\n",
    "hData = hData[{'M3':s[::hist.rebin(5)]}]\n",
    "hData = SetRangeHist(hData,\"M3\",50,500)\n",
    "\n",
    "plotWithRatio(h[{'dataset':sum}], hData, overlay='category', leg='right')\n",
    "plotWithRatio(h[{'category':sum}], hData, overlay='dataset', leg='right')"
   ]
  },
  {
   "cell_type": "code",
   "execution_count": null,
   "metadata": {},
   "outputs": [],
   "source": [
    "h = outputMCHist['photon_lepton_mass_3j0t'][{'lepFlavor':'electron','systematic':'nominal'}]\n",
    "h = GroupBy(h, \"category\", \"category\", groupingCategory)\n",
    "\n",
    "s = hist.tag.Slicer()\n",
    "h = h[{'mass':s[::hist.rebin(5)]}]\n",
    "h = SetRangeHist(h,'mass',10,200)\n",
    "\n",
    "hData = outputDataHist['photon_lepton_mass_3j0t'][{'lepFlavor':'electron','systematic':sum,'category':sum,'dataset':sum}]\n",
    "hData = hData[{'mass':s[::hist.rebin(5)]}]\n",
    "hData = SetRangeHist(hData,'mass',10,200)\n",
    "\n",
    "plotWithRatio(h[{'dataset':sum}], hData, overlay='category', leg='right')\n",
    "plotWithRatio(h[{'category':sum}], hData, overlay='dataset', leg='right')"
   ]
  },
  {
   "cell_type": "code",
   "execution_count": null,
   "metadata": {},
   "outputs": [],
   "source": []
  }
 ],
 "metadata": {
  "kernelspec": {
   "display_name": "Python 3 (ipykernel)",
   "language": "python",
   "name": "python3"
  },
  "language_info": {
   "codemirror_mode": {
    "name": "ipython",
    "version": 3
   },
   "file_extension": ".py",
   "mimetype": "text/x-python",
   "name": "python",
   "nbconvert_exporter": "python",
   "pygments_lexer": "ipython3",
   "version": "3.8.13"
  }
 },
 "nbformat": 4,
 "nbformat_minor": 2
}
