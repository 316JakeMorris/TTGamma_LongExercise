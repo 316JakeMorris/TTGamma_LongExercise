{
 "cells": [
  {
   "cell_type": "markdown",
   "metadata": {},
   "source": [
    "# Running the TTGammaProcessor"
   ]
  },
  {
   "cell_type": "markdown",
   "metadata": {},
   "source": [
    "This cell will copy the test files from their location on eos to your local area. This only needs to be done once!"
   ]
  },
  {
   "cell_type": "code",
   "execution_count": 1,
   "metadata": {},
   "outputs": [],
   "source": [
    "%load_ext autoreload\n",
    "from coffea import util, processor\n",
    "from coffea.nanoevents import NanoEventsFactory, NanoAODSchema"
   ]
  },
  {
   "cell_type": "markdown",
   "metadata": {},
   "source": [
    "List of samples to be run on (fileset variable) and a dictionary containing the number of events processed for each sample"
   ]
  },
  {
   "cell_type": "code",
   "execution_count": 2,
   "metadata": {},
   "outputs": [],
   "source": [
    "fileset = {\n",
    "    \"TTGamma_SingleLept\": [\n",
    "        \"root://cmseos.fnal.gov//store/user/cmsdas/2020/long_exercises/TTGamma/TestFiles/TTGamma_1l.root\"\n",
    "    ],\n",
    "    \"TTbarPowheg_Semilept\": [\n",
    "        \"root://cmseos.fnal.gov//store/user/cmsdas/2020/long_exercises/TTGamma/TestFiles/TTbar_1l.root\"\n",
    "    ],\n",
    "    \"W4jets\": [\n",
    "        \"root://cmseos.fnal.gov//store/user/cmsdas/2020/long_exercises/TTGamma/TestFiles/W4Jets.root\"\n",
    "    ],\n",
    "    \"WGamma_01J_5f\": [\n",
    "        \"root://cmseos.fnal.gov//store/user/cmsdas/2020/long_exercises/TTGamma/TestFiles/WGamma.root\"\n",
    "    ],\n",
    "    \"ZGamma_01J_5f_lowMass\": [\n",
    "        \"root://cmseos.fnal.gov//store/user/cmsdas/2020/long_exercises/TTGamma/TestFiles/ZGamma.root\"\n",
    "    ],\n",
    "    \"DYjetsM50\": [\n",
    "        \"root://cmseos.fnal.gov//store/user/cmsdas/2020/long_exercises/TTGamma/TestFiles/ZJets.root\"\n",
    "    ],\n",
    "}"
   ]
  },
  {
   "cell_type": "markdown",
   "metadata": {},
   "source": [
    "Run the TTGammaProcessor on the list of files included in fileset.\n",
    "\n",
    "You can specify the chunksize and maximum number of chunks to process from each sample (selecting a small number of events and one chunk will force coffea to process only a subset of the events for quicker debugging)"
   ]
  },
  {
   "cell_type": "code",
   "execution_count": 3,
   "metadata": {},
   "outputs": [
    {
     "data": {
      "application/vnd.jupyter.widget-view+json": {
       "model_id": "324e024a06c7466291b6c5d23bf7b2da",
       "version_major": 2,
       "version_minor": 0
      },
      "text/plain": [
       "Output()"
      ]
     },
     "metadata": {},
     "output_type": "display_data"
    },
    {
     "data": {
      "text/html": [
       "<pre style=\"white-space:pre;overflow-x:auto;line-height:normal;font-family:Menlo,'DejaVu Sans Mono',consolas,'Courier New',monospace\"></pre>\n"
      ],
      "text/plain": []
     },
     "metadata": {},
     "output_type": "display_data"
    },
    {
     "data": {
      "text/html": [
       "<pre style=\"white-space:pre;overflow-x:auto;line-height:normal;font-family:Menlo,'DejaVu Sans Mono',consolas,'Courier New',monospace\">\n",
       "</pre>\n"
      ],
      "text/plain": [
       "\n"
      ]
     },
     "metadata": {},
     "output_type": "display_data"
    },
    {
     "data": {
      "application/vnd.jupyter.widget-view+json": {
       "model_id": "65005681e89c459e9d7d566f1dfb73d4",
       "version_major": 2,
       "version_minor": 0
      },
      "text/plain": [
       "Output()"
      ]
     },
     "metadata": {},
     "output_type": "display_data"
    },
    {
     "data": {
      "text/html": [
       "<pre style=\"white-space:pre;overflow-x:auto;line-height:normal;font-family:Menlo,'DejaVu Sans Mono',consolas,'Courier New',monospace\"></pre>\n"
      ],
      "text/plain": []
     },
     "metadata": {},
     "output_type": "display_data"
    },
    {
     "data": {
      "text/html": [
       "<pre style=\"white-space:pre;overflow-x:auto;line-height:normal;font-family:Menlo,'DejaVu Sans Mono',consolas,'Courier New',monospace\">\n",
       "</pre>\n"
      ],
      "text/plain": [
       "\n"
      ]
     },
     "metadata": {},
     "output_type": "display_data"
    },
    {
     "name": "stdout",
     "output_type": "stream",
     "text": [
      "Total time: 54.8 seconds\n",
      "Total rate: 1098.9 events / second\n"
     ]
    }
   ],
   "source": [
    "#autoreload forces the kernel to reload the processor to include any new changes\n",
    "%autoreload 2\n",
    "from ttgamma import TTGammaProcessor\n",
    "import awkward as ak\n",
    "\n",
    "import time\n",
    "tstart = time.time()\n",
    "\n",
    "#Run Coffea code using uproot\n",
    "output = processor.run_uproot_job(\n",
    "    fileset,\n",
    "    \"Events\",\n",
    "    TTGammaProcessor(isMC=True),\n",
    "    processor.iterative_executor,\n",
    "    executor_args={'schema': NanoAODSchema,'workers': 4},\n",
    "    chunksize=10000,\n",
    "    maxchunks=1,\n",
    ")\n",
    "\n",
    "elapsed = time.time() - tstart\n",
    "print(\"Total time: %.1f seconds\"%elapsed)\n",
    "print(\"Total rate: %.1f events / second\"%(output['EventCount'].value/elapsed))"
   ]
  },
  {
   "cell_type": "code",
   "execution_count": 4,
   "metadata": {},
   "outputs": [
    {
     "data": {
      "text/plain": [
       "{'all_photon_pt': Hist(\n",
       "   StrCategory(['DYjetsM50', 'ZGamma_01J_5f_lowMass', 'WGamma_01J_5f', 'W4jets', 'TTbarPowheg_Semilept', 'TTGamma_SingleLept'], growth=True, name='dataset', label='Dataset'),\n",
       "   Regular(200, 0, 1000, name='pt', label='$p_{T}$ [GeV]'),\n",
       "   storage=Double()) # Sum: 97824.0 (97826.0 with flow),\n",
       " 'photon_pt': Hist(\n",
       "   StrCategory(['ZGamma_01J_5f_lowMass', 'WGamma_01J_5f', 'TTbarPowheg_Semilept', 'TTGamma_SingleLept'], growth=True, name='dataset', label='Dataset'),\n",
       "   Regular(200, 0, 1000, name='pt', label='$p_{T}$ [GeV]'),\n",
       "   IntCategory([1, 2, 3, 4, 5], name='category', label='Photon Category'),\n",
       "   StrCategory(['electron', 'muon'], growth=True, name='lepFlavor', label='Lepton flavor'),\n",
       "   StrCategory(['nominal', 'muEffWeightUp', 'muEffWeightDown', 'eleEffWeightUp', 'eleEffWeightDown', 'ISRUp', 'ISRDown', 'FSRUp', 'FSRDown', 'PDFUp', 'PDFDown', 'Q2ScaleUp', 'Q2ScaleDown', 'puWeightUp', 'puWeightDown', 'btagWeightUp', 'btagWeightDown', 'JESUp', 'JESDown', 'JERUp', 'JERDown'], growth=True, name='systematic', label='Systematic uncertainty'),\n",
       "   storage=Double()) # Sum: 10152.231866696698,\n",
       " 'photon_eta': Hist(\n",
       "   StrCategory(['ZGamma_01J_5f_lowMass', 'WGamma_01J_5f', 'TTbarPowheg_Semilept', 'TTGamma_SingleLept'], growth=True, name='dataset', label='Dataset'),\n",
       "   Regular(300, -1.5, 1.5, name='eta', label='$\\\\eta_{\\\\gamma}$'),\n",
       "   IntCategory([1, 2, 3, 4, 5], name='category', label='Photon Category'),\n",
       "   StrCategory(['electron', 'muon'], growth=True, name='lepFlavor', label='Lepton flavor'),\n",
       "   StrCategory(['nominal', 'muEffWeightUp', 'muEffWeightDown', 'eleEffWeightUp', 'eleEffWeightDown', 'ISRUp', 'ISRDown', 'FSRUp', 'FSRDown', 'PDFUp', 'PDFDown', 'Q2ScaleUp', 'Q2ScaleDown', 'puWeightUp', 'puWeightDown', 'btagWeightUp', 'btagWeightDown', 'JESUp', 'JESDown', 'JERUp', 'JERDown'], growth=True, name='systematic', label='Systematic uncertainty'),\n",
       "   storage=Double()) # Sum: 10152.231866696698,\n",
       " 'photon_chIso': Hist(\n",
       "   StrCategory(['ZGamma_01J_5f_lowMass', 'WGamma_01J_5f', 'W4jets', 'TTbarPowheg_Semilept', 'TTGamma_SingleLept'], growth=True, name='dataset', label='Dataset'),\n",
       "   Regular(400, -0.1, 20.001, name='chIso', label='Charged Hadron Isolation'),\n",
       "   IntCategory([1, 2, 3, 4, 5], name='category', label='Photon Category'),\n",
       "   StrCategory(['electron', 'muon'], growth=True, name='lepFlavor', label='Lepton flavor'),\n",
       "   StrCategory(['nominal', 'muEffWeightUp', 'muEffWeightDown', 'eleEffWeightUp', 'eleEffWeightDown', 'ISRUp', 'ISRDown', 'FSRUp', 'FSRDown', 'PDFUp', 'PDFDown', 'Q2ScaleUp', 'Q2ScaleDown', 'puWeightUp', 'puWeightDown', 'btagWeightUp', 'btagWeightDown', 'JESUp', 'JESDown', 'JERUp', 'JERDown'], growth=True, name='systematic', label='Systematic uncertainty'),\n",
       "   storage=Double()) # Sum: 17066.222921676737 (17900.37994109027 with flow),\n",
       " 'photon_lepton_mass_3j0t': Hist(\n",
       "   StrCategory(['DYjetsM50', 'ZGamma_01J_5f_lowMass', 'WGamma_01J_5f', 'TTbarPowheg_Semilept', 'TTGamma_SingleLept'], growth=True, name='dataset', label='Dataset'),\n",
       "   Regular(400, 0, 400, name='mass', label='$m_{\\\\ell\\\\gamma}$ [GeV]'),\n",
       "   IntCategory([1, 2, 3, 4, 5], name='category', label='Photon Category'),\n",
       "   StrCategory(['electron', 'muon'], growth=True, name='lepFlavor', label='Lepton flavor'),\n",
       "   StrCategory(['nominal', 'muEffWeightUp', 'muEffWeightDown', 'eleEffWeightUp', 'eleEffWeightDown', 'ISRUp', 'ISRDown', 'FSRUp', 'FSRDown', 'PDFUp', 'PDFDown', 'Q2ScaleUp', 'Q2ScaleDown', 'puWeightUp', 'puWeightDown', 'btagWeightUp', 'btagWeightDown', 'JESUp', 'JESDown', 'JERUp', 'JERDown'], growth=True, name='systematic', label='Systematic uncertainty'),\n",
       "   storage=Double()) # Sum: 6326.5572236162925 (6432.832428325808 with flow),\n",
       " 'M3': Hist(\n",
       "   StrCategory(['ZGamma_01J_5f_lowMass', 'WGamma_01J_5f', 'TTbarPowheg_Semilept', 'TTGamma_SingleLept'], growth=True, name='dataset', label='Dataset'),\n",
       "   Regular(200, 0, 1000, name='M3', label='$M_3$ [GeV]'),\n",
       "   IntCategory([1, 2, 3, 4, 5], name='category', label='Photon Category'),\n",
       "   StrCategory(['electron', 'muon'], growth=True, name='lepFlavor', label='Lepton flavor'),\n",
       "   StrCategory(['nominal', 'muEffWeightUp', 'muEffWeightDown', 'eleEffWeightUp', 'eleEffWeightDown', 'ISRUp', 'ISRDown', 'FSRUp', 'FSRDown', 'PDFUp', 'PDFDown', 'Q2ScaleUp', 'Q2ScaleDown', 'puWeightUp', 'puWeightDown', 'btagWeightUp', 'btagWeightDown', 'JESUp', 'JESDown', 'JERUp', 'JERDown'], growth=True, name='systematic', label='Systematic uncertainty'),\n",
       "   storage=Double()) # Sum: 10124.32809173452 (10152.231866696698 with flow),\n",
       " 'EventCount': value_accumulator(int, 60181)}"
      ]
     },
     "execution_count": 4,
     "metadata": {},
     "output_type": "execute_result"
    }
   ],
   "source": [
    "output"
   ]
  },
  {
   "cell_type": "code",
   "execution_count": 23,
   "metadata": {},
   "outputs": [
    {
     "data": {
      "text/plain": [
       "Hist(\n",
       "  StrCategory(['ZGamma_01J_5f_lowMass', 'WGamma_01J_5f', 'W4jets', 'TTbarPowheg_Semilept', 'TTGamma_SingleLept'], growth=True, name='dataset', label='Dataset'),\n",
       "  Regular(400, -0.1, 20.001, name='chIso', label='Charged Hadron Isolation'),\n",
       "  storage=Double()) # Sum: 809.8701336206443 (849.7587741327945 with flow)"
      ]
     },
     "execution_count": 23,
     "metadata": {},
     "output_type": "execute_result"
    }
   ],
   "source": [
    "import hist\n",
    "import matplotlib.pyplot as plt\n",
    "\n",
    "h = output['photon_chIso'][{\"lepFlavor\": slice(hist.underflow, hist.overflow, sum)}];\n",
    "h = h[{\"systematic\": \"nominal\"}][{\"category\": slice(hist.underflow, hist.overflow, sum)}];\n",
    "h"
   ]
  },
  {
   "cell_type": "code",
   "execution_count": 24,
   "metadata": {},
   "outputs": [
    {
     "data": {
      "text/plain": [
       "(0.0001, 1000)"
      ]
     },
     "execution_count": 24,
     "metadata": {},
     "output_type": "execute_result"
    },
    {
     "data": {
      "image/png": "[encoded data removed]",
      "text/plain": [
       "<Figure size 640x480 with 1 Axes>"
      ]
     },
     "metadata": {},
     "output_type": "display_data"
    }
   ],
   "source": [
    "h.plot1d(overlay='dataset')\n",
    "plt.yscale('log')\n",
    "plt.ylim(1e-4, 1000)"
   ]
  },
  {
   "cell_type": "code",
   "execution_count": 30,
   "metadata": {},
   "outputs": [],
   "source": [
    "#expected = util.load(\"output_Expected.coffea\")\n",
    "\n",
    "#hname = \"photon_chIso\"\n",
    "#for key in expected[hname].values():\n",
    "#    mine = output[hname].values()\n",
    "#    other = expected[hname].values()[key]\n",
    "#    if (~ak.all(mine == other)):\n",
    "#        print(key, ak.all(mine == other))\n",
    "#print('done!')"
   ]
  },
  {
   "cell_type": "markdown",
   "metadata": {},
   "source": [
    "# Accessing Arrays Interactively"
   ]
  },
  {
   "cell_type": "markdown",
   "metadata": {},
   "source": [
    "Below is an example of loading a NanoAOD file interactively. This can be very useful for developing the code, and debugging any issues. Use this area to build your intuition for working with Coffea and awkward arrays!"
   ]
  },
  {
   "cell_type": "code",
   "execution_count": 31,
   "metadata": {},
   "outputs": [],
   "source": [
    "import awkward as ak\n",
    "from coffea.nanoevents import NanoEventsFactory, NanoAODSchema\n",
    "\n",
    "fname = fileset[\"TTGamma_SingleLept\"][0]\n",
    "events = NanoEventsFactory.from_root(fname, schemaclass=NanoAODSchema).events()"
   ]
  },
  {
   "cell_type": "markdown",
   "metadata": {},
   "source": [
    "Once you have opened the file, you can explore its contents using the 'fields' syntax"
   ]
  },
  {
   "cell_type": "code",
   "execution_count": 32,
   "metadata": {},
   "outputs": [],
   "source": [
    "events[\"Photon\", \"charge\"] = 0\n",
    "leadingMuon = ak.firsts(events.Muon)\n",
    "leadingPhoton = ak.firsts(events.Photon)\n",
    "leadingElectron = ak.firsts(events.Electron)"
   ]
  },
  {
   "cell_type": "code",
   "execution_count": 33,
   "metadata": {},
   "outputs": [
    {
     "name": "stderr",
     "output_type": "stream",
     "text": [
      "/opt/conda/lib/python3.8/site-packages/awkward/_connect/_numpy.py:195: RuntimeWarning: invalid value encountered in sqrt\n",
      "  result = getattr(ufunc, method)(\n"
     ]
    },
    {
     "data": {
      "text/plain": [
       "<Array [271, 32, 32.3, ... None, 94.8, None] type='284276 * ?float32'>"
      ]
     },
     "execution_count": 33,
     "metadata": {},
     "output_type": "execute_result"
    }
   ],
   "source": [
    "(leadingMuon + leadingPhoton).mass"
   ]
  },
  {
   "cell_type": "code",
   "execution_count": 34,
   "metadata": {},
   "outputs": [
    {
     "data": {
      "text/plain": [
       "<Array [[271], [32, 6.76], ... [94.8, 117], []] type='284276 * var * float32'>"
      ]
     },
     "execution_count": 34,
     "metadata": {},
     "output_type": "execute_result"
    }
   ],
   "source": [
    "mugammapairs = ak.cartesian({\"mu\":events.Muon, \"gamma\":events.Photon})\n",
    "(mugammapairs.mu + mugammapairs.gamma).mass"
   ]
  },
  {
   "cell_type": "code",
   "execution_count": 35,
   "metadata": {},
   "outputs": [
    {
     "data": {
      "text/plain": [
       "<MuonArray [Muon, Muon, Muon, ... None, Muon, None] type='284276 * ?muon'>"
      ]
     },
     "execution_count": 35,
     "metadata": {},
     "output_type": "execute_result"
    }
   ],
   "source": [
    "leadingMuon"
   ]
  },
  {
   "cell_type": "code",
   "execution_count": 36,
   "metadata": {},
   "outputs": [
    {
     "name": "stdout",
     "output_type": "stream",
     "text": [
      "[Muon, Muon, Muon, Muon, Muon, Muon, Muon, ... Muon, Muon, None, None, Muon, None]\n"
     ]
    }
   ],
   "source": [
    "print(leadingMuon)"
   ]
  },
  {
   "cell_type": "code",
   "execution_count": 37,
   "metadata": {},
   "outputs": [
    {
     "data": {
      "text/plain": [
       "coffea.nanoevents.methods.nanoaod.MuonArray"
      ]
     },
     "execution_count": 37,
     "metadata": {},
     "output_type": "execute_result"
    }
   ],
   "source": [
    "type(leadingMuon)"
   ]
  },
  {
   "cell_type": "code",
   "execution_count": 38,
   "metadata": {},
   "outputs": [
    {
     "data": {
      "text/plain": [
       "2 dimensional histogram with axes:\n",
       "\t1: [0.  0.9 1.2 2.1 2.4]\n",
       "\t2: [ 26.  30.  40.  50.  60. 120. 200. 500.]"
      ]
     },
     "execution_count": 38,
     "metadata": {},
     "output_type": "execute_result"
    }
   ],
   "source": [
    "from ttgamma.scalefactors import mu_trig_err\n",
    "\n",
    "mu_trig_err"
   ]
  },
  {
   "cell_type": "code",
   "execution_count": 39,
   "metadata": {},
   "outputs": [
    {
     "data": {
      "text/plain": [
       "0.0006185738334658688"
      ]
     },
     "execution_count": 39,
     "metadata": {},
     "output_type": "execute_result"
    }
   ],
   "source": [
    "mu_trig_err(1.2, 36)"
   ]
  },
  {
   "cell_type": "code",
   "execution_count": 40,
   "metadata": {},
   "outputs": [
    {
     "data": {
      "text/plain": [
       "['eta',\n",
       " 'mass',\n",
       " 'phi',\n",
       " 'pt',\n",
       " 'genPartIdxMother',\n",
       " 'pdgId',\n",
       " 'status',\n",
       " 'statusFlags',\n",
       " 'genPartIdxMotherG',\n",
       " 'distinctParentIdxG',\n",
       " 'childrenIdxG',\n",
       " 'distinctChildrenIdxG']"
      ]
     },
     "execution_count": 40,
     "metadata": {},
     "output_type": "execute_result"
    }
   ],
   "source": [
    "events.Photon.matched_gen.fields"
   ]
  },
  {
   "cell_type": "code",
   "execution_count": 41,
   "metadata": {},
   "outputs": [
    {
     "data": {
      "text/plain": [
       "['eta',\n",
       " 'mass',\n",
       " 'phi',\n",
       " 'pt',\n",
       " 'genPartIdxMother',\n",
       " 'pdgId',\n",
       " 'status',\n",
       " 'statusFlags',\n",
       " 'genPartIdxMotherG',\n",
       " 'distinctParentIdxG',\n",
       " 'childrenIdxG',\n",
       " 'distinctChildrenIdxG']"
      ]
     },
     "execution_count": 41,
     "metadata": {},
     "output_type": "execute_result"
    }
   ],
   "source": [
    "events.GenPart.fields"
   ]
  },
  {
   "cell_type": "markdown",
   "metadata": {},
   "source": [
    "There is also a docstring for each of these variables in NanoAOD, which you can access using '?':"
   ]
  },
  {
   "cell_type": "code",
   "execution_count": 42,
   "metadata": {},
   "outputs": [],
   "source": [
    "events.Jet.rawFactor?"
   ]
  },
  {
   "cell_type": "code",
   "execution_count": null,
   "metadata": {},
   "outputs": [],
   "source": []
  }
 ],
 "metadata": {
  "kernelspec": {
   "display_name": "Python 3 (ipykernel)",
   "language": "python",
   "name": "python3"
  },
  "language_info": {
   "codemirror_mode": {
    "name": "ipython",
    "version": 3
   },
   "file_extension": ".py",
   "mimetype": "text/x-python",
   "name": "python",
   "nbconvert_exporter": "python",
   "pygments_lexer": "ipython3",
   "version": "3.8.13"
  }
 },
 "nbformat": 4,
 "nbformat_minor": 2
}
