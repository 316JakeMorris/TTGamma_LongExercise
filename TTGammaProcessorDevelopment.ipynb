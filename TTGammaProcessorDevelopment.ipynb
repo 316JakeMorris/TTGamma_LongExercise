{
 "cells": [
  {
   "cell_type": "markdown",
   "metadata": {},
   "source": [
    "# Running the TTGammaProcessor"
   ]
  },
  {
   "cell_type": "markdown",
   "metadata": {},
   "source": [
    "This cell will copy the test files from their location on eos to your local area. This only needs to be done once!"
   ]
  },
  {
   "cell_type": "code",
   "execution_count": 1,
   "metadata": {},
   "outputs": [],
   "source": [
    "%load_ext autoreload\n",
    "from coffea import util, processor\n",
    "from coffea.nanoevents import NanoEventsFactory, NanoAODSchema"
   ]
  },
  {
   "cell_type": "markdown",
   "metadata": {},
   "source": [
    "List of samples to be run on (fileset variable) and a dictionary containing the number of events processed for each sample"
   ]
  },
  {
   "cell_type": "code",
   "execution_count": 2,
   "metadata": {},
   "outputs": [],
   "source": [
    "fileset = {\n",
    "    \"TTGamma_SingleLept\": [\n",
    "        \"root://cmseos.fnal.gov//store/user/cmsdas/2020/long_exercises/TTGamma/TestFiles/TTGamma_1l.root\"\n",
    "    ],\n",
    "    \"TTbarPowheg_Semilept\": [\n",
    "        \"root://cmseos.fnal.gov//store/user/cmsdas/2020/long_exercises/TTGamma/TestFiles/TTbar_1l.root\"\n",
    "    ],\n",
    "    \"W4jets\": [\n",
    "        \"root://cmseos.fnal.gov//store/user/cmsdas/2020/long_exercises/TTGamma/TestFiles/W4Jets.root\"\n",
    "    ],\n",
    "    \"WGamma_01J_5f\": [\n",
    "        \"root://cmseos.fnal.gov//store/user/cmsdas/2020/long_exercises/TTGamma/TestFiles/WGamma.root\"\n",
    "    ],\n",
    "    \"ZGamma_01J_5f_lowMass\": [\n",
    "        \"root://cmseos.fnal.gov//store/user/cmsdas/2020/long_exercises/TTGamma/TestFiles/ZGamma.root\"\n",
    "    ],\n",
    "}"
   ]
  },
  {
   "cell_type": "markdown",
   "metadata": {},
   "source": [
    "Run the TTGammaProcessor on the list of files included in fileset.\n",
    "\n",
    "You can specify the chunksize and maximum number of chunks to process from each sample (selecting a small number of events and one chunk will force coffea to process only a subset of the events for quicker debugging)"
   ]
  },
  {
   "cell_type": "code",
   "execution_count": 3,
   "metadata": {},
   "outputs": [
    {
     "data": {
      "application/vnd.jupyter.widget-view+json": {
       "model_id": "444dfd55fb7a49e8866b56928af2f35f",
       "version_major": 2,
       "version_minor": 0
      },
      "text/plain": [
       "Output()"
      ]
     },
     "metadata": {},
     "output_type": "display_data"
    },
    {
     "data": {
      "text/html": [
       "<pre style=\"white-space:pre;overflow-x:auto;line-height:normal;font-family:Menlo,'DejaVu Sans Mono',consolas,'Courier New',monospace\"></pre>\n"
      ],
      "text/plain": []
     },
     "metadata": {},
     "output_type": "display_data"
    },
    {
     "data": {
      "text/html": [
       "<pre style=\"white-space:pre;overflow-x:auto;line-height:normal;font-family:Menlo,'DejaVu Sans Mono',consolas,'Courier New',monospace\">\n",
       "</pre>\n"
      ],
      "text/plain": [
       "\n"
      ]
     },
     "metadata": {},
     "output_type": "display_data"
    },
    {
     "data": {
      "application/vnd.jupyter.widget-view+json": {
       "model_id": "eeea6372eab54d33ac9cdb50f9734baf",
       "version_major": 2,
       "version_minor": 0
      },
      "text/plain": [
       "Output()"
      ]
     },
     "metadata": {},
     "output_type": "display_data"
    },
    {
     "data": {
      "text/html": [
       "<pre style=\"white-space:pre;overflow-x:auto;line-height:normal;font-family:Menlo,'DejaVu Sans Mono',consolas,'Courier New',monospace\"></pre>\n"
      ],
      "text/plain": []
     },
     "metadata": {},
     "output_type": "display_data"
    },
    {
     "data": {
      "text/html": [
       "<pre style=\"white-space:pre;overflow-x:auto;line-height:normal;font-family:Menlo,'DejaVu Sans Mono',consolas,'Courier New',monospace\">\n",
       "</pre>\n"
      ],
      "text/plain": [
       "\n"
      ]
     },
     "metadata": {},
     "output_type": "display_data"
    },
    {
     "name": "stdout",
     "output_type": "stream",
     "text": [
      "Total time: 47.0 seconds\n"
     ]
    }
   ],
   "source": [
    "#autoreload forces the kernel to reload the processor to include any new changes\n",
    "%autoreload 2\n",
    "from ttgamma import TTGammaProcessor\n",
    "import awkward as ak\n",
    "\n",
    "import time\n",
    "tstart = time.time()\n",
    "\n",
    "#Run Coffea code using uproot\n",
    "output = processor.run_uproot_job(\n",
    "    fileset,\n",
    "    \"Events\",\n",
    "    TTGammaProcessor(isMC=True),\n",
    "    processor.iterative_executor,\n",
    "    executor_args={'schema': NanoAODSchema,'workers': 4},\n",
    "    chunksize=10000,\n",
    "    maxchunks=1,\n",
    ")\n",
    "\n",
    "elapsed = time.time() - tstart\n",
    "print(\"Total time: %.1f seconds\"%elapsed)"
   ]
  },
  {
   "cell_type": "code",
   "execution_count": 4,
   "metadata": {},
   "outputs": [
    {
     "data": {
      "text/plain": [
       "{'ZGamma_01J_5f_lowMass': {'all_photon_pt': Hist(\n",
       "    StrCategory(['ZGamma_01J_5f_lowMass'], growth=True, name='dataset', label='Dataset'),\n",
       "    Regular(200, 0, 1000, name='pt', label='$p_{T}$ [GeV]'),\n",
       "    storage=Double()) # Sum: 19216.0,\n",
       "  'photon_pt': Hist(\n",
       "    StrCategory(['ZGamma_01J_5f_lowMass'], growth=True, name='dataset', label='Dataset'),\n",
       "    Regular(200, 0, 1000, name='pt', label='$p_{T}$ [GeV]'),\n",
       "    IntCategory([1, 2, 3, 4, 5], name='category', label='Photon Category'),\n",
       "    StrCategory(['electron', 'muon'], growth=True, name='lepFlavor', label='Lepton flavor'),\n",
       "    StrCategory(['nominal', 'muEffWeightUp', 'muEffWeightDown', 'eleEffWeightUp', 'eleEffWeightDown', 'ISRUp', 'ISRDown', 'FSRUp', 'FSRDown', 'PDFUp', 'PDFDown', 'Q2ScaleUp', 'Q2ScaleDown', 'puWeightUp', 'puWeightDown', 'btagWeightUp', 'btagWeightDown', 'JESUp', 'JESDown', 'JERUp', 'JERDown'], growth=True, name='systematic', label='Systematic uncertainty'),\n",
       "    storage=Double()) # Sum: 43.50194087473733,\n",
       "  'photon_eta': Hist(\n",
       "    StrCategory(['ZGamma_01J_5f_lowMass'], growth=True, name='dataset', label='Dataset'),\n",
       "    Regular(300, -1.5, 1.5, name='eta', label='$\\\\eta_{\\\\gamma}$'),\n",
       "    IntCategory([1, 2, 3, 4, 5], name='category', label='Photon Category'),\n",
       "    StrCategory(['electron', 'muon'], growth=True, name='lepFlavor', label='Lepton flavor'),\n",
       "    StrCategory(['nominal', 'muEffWeightUp', 'muEffWeightDown', 'eleEffWeightUp', 'eleEffWeightDown', 'ISRUp', 'ISRDown', 'FSRUp', 'FSRDown', 'PDFUp', 'PDFDown', 'Q2ScaleUp', 'Q2ScaleDown', 'puWeightUp', 'puWeightDown', 'btagWeightUp', 'btagWeightDown', 'JESUp', 'JESDown', 'JERUp', 'JERDown'], growth=True, name='systematic', label='Systematic uncertainty'),\n",
       "    storage=Double()) # Sum: 43.50194087473733,\n",
       "  'photon_chIso': Hist(\n",
       "    StrCategory(['ZGamma_01J_5f_lowMass'], growth=True, name='dataset', label='Dataset'),\n",
       "    Regular(400, -0.1, 20.001, name='chIso', label='Charged Hadron Isolation'),\n",
       "    IntCategory([1, 2, 3, 4, 5], name='category', label='Photon Category'),\n",
       "    StrCategory(['electron', 'muon'], growth=True, name='lepFlavor', label='Lepton flavor'),\n",
       "    StrCategory(['nominal', 'muEffWeightUp', 'muEffWeightDown', 'eleEffWeightUp', 'eleEffWeightDown', 'ISRUp', 'ISRDown', 'FSRUp', 'FSRDown', 'PDFUp', 'PDFDown', 'Q2ScaleUp', 'Q2ScaleDown', 'puWeightUp', 'puWeightDown', 'btagWeightUp', 'btagWeightDown', 'JESUp', 'JESDown', 'JERUp', 'JERDown'], growth=True, name='systematic', label='Systematic uncertainty'),\n",
       "    storage=Double()) # Sum: 43.50194087473733,\n",
       "  'photon_lepton_mass_3j0t': Hist(\n",
       "    StrCategory(['ZGamma_01J_5f_lowMass'], growth=True, name='dataset', label='Dataset'),\n",
       "    Regular(400, 0, 400, name='mass', label='$m_{\\\\ell\\\\gamma}$ [GeV]'),\n",
       "    IntCategory([1, 2, 3, 4, 5], name='category', label='Photon Category'),\n",
       "    StrCategory(['electron', 'muon'], growth=True, name='lepFlavor', label='Lepton flavor'),\n",
       "    StrCategory(['nominal', 'muEffWeightUp', 'muEffWeightDown', 'eleEffWeightUp', 'eleEffWeightDown', 'ISRUp', 'ISRDown', 'FSRUp', 'FSRDown', 'PDFUp', 'PDFDown', 'Q2ScaleUp', 'Q2ScaleDown', 'puWeightUp', 'puWeightDown', 'btagWeightUp', 'btagWeightDown', 'JESUp', 'JESDown', 'JERUp', 'JERDown'], growth=True, name='systematic', label='Systematic uncertainty'),\n",
       "    storage=Double()) # Sum: 408.6216388192311,\n",
       "  'M3': Hist(\n",
       "    StrCategory(['ZGamma_01J_5f_lowMass'], growth=True, name='dataset', label='Dataset'),\n",
       "    Regular(200, 0, 1000, name='M3', label='$M_3$ [GeV]'),\n",
       "    IntCategory([1, 2, 3, 4, 5], name='category', label='Photon Category'),\n",
       "    StrCategory(['electron', 'muon'], growth=True, name='lepFlavor', label='Lepton flavor'),\n",
       "    StrCategory(['nominal', 'muEffWeightUp', 'muEffWeightDown', 'eleEffWeightUp', 'eleEffWeightDown', 'ISRUp', 'ISRDown', 'FSRUp', 'FSRDown', 'PDFUp', 'PDFDown', 'Q2ScaleUp', 'Q2ScaleDown', 'puWeightUp', 'puWeightDown', 'btagWeightUp', 'btagWeightDown', 'JESUp', 'JESDown', 'JERUp', 'JERDown'], growth=True, name='systematic', label='Systematic uncertainty'),\n",
       "    storage=Double()) # Sum: 43.50194087473733,\n",
       "  'EventCount': 49885},\n",
       " 'WGamma_01J_5f': {'all_photon_pt': Hist(\n",
       "    StrCategory(['WGamma_01J_5f'], growth=True, name='dataset', label='Dataset'),\n",
       "    Regular(200, 0, 1000, name='pt', label='$p_{T}$ [GeV]'),\n",
       "    storage=Double()) # Sum: 16859.0 (16860.0 with flow),\n",
       "  'photon_pt': Hist(\n",
       "    StrCategory(['WGamma_01J_5f'], growth=True, name='dataset', label='Dataset'),\n",
       "    Regular(200, 0, 1000, name='pt', label='$p_{T}$ [GeV]'),\n",
       "    IntCategory([1, 2, 3, 4, 5], name='category', label='Photon Category'),\n",
       "    StrCategory(['electron', 'muon'], growth=True, name='lepFlavor', label='Lepton flavor'),\n",
       "    StrCategory(['nominal', 'muEffWeightUp', 'muEffWeightDown', 'eleEffWeightUp', 'eleEffWeightDown', 'ISRUp', 'ISRDown', 'FSRUp', 'FSRDown', 'PDFUp', 'PDFDown', 'Q2ScaleUp', 'Q2ScaleDown', 'puWeightUp', 'puWeightDown', 'btagWeightUp', 'btagWeightDown', 'JESUp', 'JESDown', 'JERUp', 'JERDown'], growth=True, name='systematic', label='Systematic uncertainty'),\n",
       "    storage=Double()) # Sum: 159.38906978880274,\n",
       "  'photon_eta': Hist(\n",
       "    StrCategory(['WGamma_01J_5f'], growth=True, name='dataset', label='Dataset'),\n",
       "    Regular(300, -1.5, 1.5, name='eta', label='$\\\\eta_{\\\\gamma}$'),\n",
       "    IntCategory([1, 2, 3, 4, 5], name='category', label='Photon Category'),\n",
       "    StrCategory(['electron', 'muon'], growth=True, name='lepFlavor', label='Lepton flavor'),\n",
       "    StrCategory(['nominal', 'muEffWeightUp', 'muEffWeightDown', 'eleEffWeightUp', 'eleEffWeightDown', 'ISRUp', 'ISRDown', 'FSRUp', 'FSRDown', 'PDFUp', 'PDFDown', 'Q2ScaleUp', 'Q2ScaleDown', 'puWeightUp', 'puWeightDown', 'btagWeightUp', 'btagWeightDown', 'JESUp', 'JESDown', 'JERUp', 'JERDown'], growth=True, name='systematic', label='Systematic uncertainty'),\n",
       "    storage=Double()) # Sum: 159.38906978880274,\n",
       "  'photon_chIso': Hist(\n",
       "    StrCategory(['WGamma_01J_5f'], growth=True, name='dataset', label='Dataset'),\n",
       "    Regular(400, -0.1, 20.001, name='chIso', label='Charged Hadron Isolation'),\n",
       "    IntCategory([1, 2, 3, 4, 5], name='category', label='Photon Category'),\n",
       "    StrCategory(['electron', 'muon'], growth=True, name='lepFlavor', label='Lepton flavor'),\n",
       "    StrCategory(['nominal', 'muEffWeightUp', 'muEffWeightDown', 'eleEffWeightUp', 'eleEffWeightDown', 'ISRUp', 'ISRDown', 'FSRUp', 'FSRDown', 'PDFUp', 'PDFDown', 'Q2ScaleUp', 'Q2ScaleDown', 'puWeightUp', 'puWeightDown', 'btagWeightUp', 'btagWeightDown', 'JESUp', 'JESDown', 'JERUp', 'JERDown'], growth=True, name='systematic', label='Systematic uncertainty'),\n",
       "    storage=Double()) # Sum: 245.49792122145305 (250.26099281686743 with flow),\n",
       "  'photon_lepton_mass_3j0t': Hist(\n",
       "    StrCategory(['WGamma_01J_5f'], growth=True, name='dataset', label='Dataset'),\n",
       "    Regular(400, 0, 400, name='mass', label='$m_{\\\\ell\\\\gamma}$ [GeV]'),\n",
       "    IntCategory([1, 2, 3, 4, 5], name='category', label='Photon Category'),\n",
       "    StrCategory(['electron', 'muon'], growth=True, name='lepFlavor', label='Lepton flavor'),\n",
       "    StrCategory(['nominal', 'muEffWeightUp', 'muEffWeightDown', 'eleEffWeightUp', 'eleEffWeightDown', 'ISRUp', 'ISRDown', 'FSRUp', 'FSRDown', 'PDFUp', 'PDFDown', 'Q2ScaleUp', 'Q2ScaleDown', 'puWeightUp', 'puWeightDown', 'btagWeightUp', 'btagWeightDown', 'JESUp', 'JESDown', 'JERUp', 'JERDown'], growth=True, name='systematic', label='Systematic uncertainty'),\n",
       "    storage=Double()) # Sum: 2372.027068938949 (2415.314108314556 with flow),\n",
       "  'M3': Hist(\n",
       "    StrCategory(['WGamma_01J_5f'], growth=True, name='dataset', label='Dataset'),\n",
       "    Regular(200, 0, 1000, name='M3', label='$M_3$ [GeV]'),\n",
       "    IntCategory([1, 2, 3, 4, 5], name='category', label='Photon Category'),\n",
       "    StrCategory(['electron', 'muon'], growth=True, name='lepFlavor', label='Lepton flavor'),\n",
       "    StrCategory(['nominal', 'muEffWeightUp', 'muEffWeightDown', 'eleEffWeightUp', 'eleEffWeightDown', 'ISRUp', 'ISRDown', 'FSRUp', 'FSRDown', 'PDFUp', 'PDFDown', 'Q2ScaleUp', 'Q2ScaleDown', 'puWeightUp', 'puWeightDown', 'btagWeightUp', 'btagWeightDown', 'JESUp', 'JESDown', 'JERUp', 'JERDown'], growth=True, name='systematic', label='Systematic uncertainty'),\n",
       "    storage=Double()) # Sum: 159.38906978880274,\n",
       "  'EventCount': 50470},\n",
       " 'W4jets': {'all_photon_pt': Hist(\n",
       "    StrCategory(['W4jets'], growth=True, name='dataset', label='Dataset'),\n",
       "    Regular(200, 0, 1000, name='pt', label='$p_{T}$ [GeV]'),\n",
       "    storage=Double()) # Sum: 11457.0 (11458.0 with flow),\n",
       "  'photon_pt': Hist(\n",
       "    StrCategory([], growth=True, name='dataset', label='Dataset'),\n",
       "    Regular(200, 0, 1000, name='pt', label='$p_{T}$ [GeV]'),\n",
       "    IntCategory([1, 2, 3, 4, 5], name='category', label='Photon Category'),\n",
       "    StrCategory([], growth=True, name='lepFlavor', label='Lepton flavor'),\n",
       "    StrCategory([], growth=True, name='systematic', label='Systematic uncertainty'),\n",
       "    storage=Double()),\n",
       "  'photon_eta': Hist(\n",
       "    StrCategory([], growth=True, name='dataset', label='Dataset'),\n",
       "    Regular(300, -1.5, 1.5, name='eta', label='$\\\\eta_{\\\\gamma}$'),\n",
       "    IntCategory([1, 2, 3, 4, 5], name='category', label='Photon Category'),\n",
       "    StrCategory([], growth=True, name='lepFlavor', label='Lepton flavor'),\n",
       "    StrCategory([], growth=True, name='systematic', label='Systematic uncertainty'),\n",
       "    storage=Double()),\n",
       "  'photon_chIso': Hist(\n",
       "    StrCategory(['W4jets'], growth=True, name='dataset', label='Dataset'),\n",
       "    Regular(400, -0.1, 20.001, name='chIso', label='Charged Hadron Isolation'),\n",
       "    IntCategory([1, 2, 3, 4, 5], name='category', label='Photon Category'),\n",
       "    StrCategory(['electron', 'muon'], growth=True, name='lepFlavor', label='Lepton flavor'),\n",
       "    StrCategory(['nominal', 'muEffWeightUp', 'muEffWeightDown', 'eleEffWeightUp', 'eleEffWeightDown', 'ISRUp', 'ISRDown', 'FSRUp', 'FSRDown', 'PDFUp', 'PDFDown', 'Q2ScaleUp', 'Q2ScaleDown', 'puWeightUp', 'puWeightDown', 'btagWeightUp', 'btagWeightDown', 'JESUp', 'JESDown', 'JERUp', 'JERDown'], growth=True, name='systematic', label='Systematic uncertainty'),\n",
       "    storage=Double()) # Sum: 43.472338916342984,\n",
       "  'photon_lepton_mass_3j0t': Hist(\n",
       "    StrCategory([], growth=True, name='dataset', label='Dataset'),\n",
       "    Regular(400, 0, 400, name='mass', label='$m_{\\\\ell\\\\gamma}$ [GeV]'),\n",
       "    IntCategory([1, 2, 3, 4, 5], name='category', label='Photon Category'),\n",
       "    StrCategory([], growth=True, name='lepFlavor', label='Lepton flavor'),\n",
       "    StrCategory([], growth=True, name='systematic', label='Systematic uncertainty'),\n",
       "    storage=Double()),\n",
       "  'M3': Hist(\n",
       "    StrCategory([], growth=True, name='dataset', label='Dataset'),\n",
       "    Regular(200, 0, 1000, name='M3', label='$M_3$ [GeV]'),\n",
       "    IntCategory([1, 2, 3, 4, 5], name='category', label='Photon Category'),\n",
       "    StrCategory([], growth=True, name='lepFlavor', label='Lepton flavor'),\n",
       "    StrCategory([], growth=True, name='systematic', label='Systematic uncertainty'),\n",
       "    storage=Double()),\n",
       "  'EventCount': 50505},\n",
       " 'TTbarPowheg_Semilept': {'all_photon_pt': Hist(\n",
       "    StrCategory(['TTbarPowheg_Semilept'], growth=True, name='dataset', label='Dataset'),\n",
       "    Regular(200, 0, 1000, name='pt', label='$p_{T}$ [GeV]'),\n",
       "    storage=Double()) # Sum: 15408.0,\n",
       "  'photon_pt': Hist(\n",
       "    StrCategory(['TTbarPowheg_Semilept'], growth=True, name='dataset', label='Dataset'),\n",
       "    Regular(200, 0, 1000, name='pt', label='$p_{T}$ [GeV]'),\n",
       "    IntCategory([1, 2, 3, 4, 5], name='category', label='Photon Category'),\n",
       "    StrCategory(['electron', 'muon'], growth=True, name='lepFlavor', label='Lepton flavor'),\n",
       "    StrCategory(['nominal', 'muEffWeightUp', 'muEffWeightDown', 'eleEffWeightUp', 'eleEffWeightDown', 'ISRUp', 'ISRDown', 'FSRUp', 'FSRDown', 'PDFUp', 'PDFDown', 'Q2ScaleUp', 'Q2ScaleDown', 'puWeightUp', 'puWeightDown', 'btagWeightUp', 'btagWeightDown', 'JESUp', 'JESDown', 'JERUp', 'JERDown'], growth=True, name='systematic', label='Systematic uncertainty'),\n",
       "    storage=Double()) # Sum: 133.89908034369526,\n",
       "  'photon_eta': Hist(\n",
       "    StrCategory(['TTbarPowheg_Semilept'], growth=True, name='dataset', label='Dataset'),\n",
       "    Regular(300, -1.5, 1.5, name='eta', label='$\\\\eta_{\\\\gamma}$'),\n",
       "    IntCategory([1, 2, 3, 4, 5], name='category', label='Photon Category'),\n",
       "    StrCategory(['electron', 'muon'], growth=True, name='lepFlavor', label='Lepton flavor'),\n",
       "    StrCategory(['nominal', 'muEffWeightUp', 'muEffWeightDown', 'eleEffWeightUp', 'eleEffWeightDown', 'ISRUp', 'ISRDown', 'FSRUp', 'FSRDown', 'PDFUp', 'PDFDown', 'Q2ScaleUp', 'Q2ScaleDown', 'puWeightUp', 'puWeightDown', 'btagWeightUp', 'btagWeightDown', 'JESUp', 'JESDown', 'JERUp', 'JERDown'], growth=True, name='systematic', label='Systematic uncertainty'),\n",
       "    storage=Double()) # Sum: 133.89908034369526,\n",
       "  'photon_chIso': Hist(\n",
       "    StrCategory(['TTbarPowheg_Semilept'], growth=True, name='dataset', label='Dataset'),\n",
       "    Regular(400, -0.1, 20.001, name='chIso', label='Charged Hadron Isolation'),\n",
       "    IntCategory([1, 2, 3, 4, 5], name='category', label='Photon Category'),\n",
       "    StrCategory(['electron', 'muon'], growth=True, name='lepFlavor', label='Lepton flavor'),\n",
       "    StrCategory(['nominal', 'muEffWeightUp', 'muEffWeightDown', 'eleEffWeightUp', 'eleEffWeightDown', 'ISRUp', 'ISRDown', 'FSRUp', 'FSRDown', 'PDFUp', 'PDFDown', 'Q2ScaleUp', 'Q2ScaleDown', 'puWeightUp', 'puWeightDown', 'btagWeightUp', 'btagWeightDown', 'JESUp', 'JESDown', 'JERUp', 'JERDown'], growth=True, name='systematic', label='Systematic uncertainty'),\n",
       "    storage=Double()) # Sum: 880.1383638306995 (1209.8400723053853 with flow),\n",
       "  'photon_lepton_mass_3j0t': Hist(\n",
       "    StrCategory(['TTbarPowheg_Semilept'], growth=True, name='dataset', label='Dataset'),\n",
       "    Regular(400, 0, 400, name='mass', label='$m_{\\\\ell\\\\gamma}$ [GeV]'),\n",
       "    IntCategory([1, 2, 3, 4, 5], name='category', label='Photon Category'),\n",
       "    StrCategory(['muon'], growth=True, name='lepFlavor', label='Lepton flavor'),\n",
       "    StrCategory(['nominal', 'muEffWeightUp', 'muEffWeightDown', 'eleEffWeightUp', 'eleEffWeightDown', 'ISRUp', 'ISRDown', 'FSRUp', 'FSRDown', 'PDFUp', 'PDFDown', 'Q2ScaleUp', 'Q2ScaleDown', 'puWeightUp', 'puWeightDown', 'btagWeightUp', 'btagWeightDown', 'JESUp', 'JESDown', 'JERUp', 'JERDown'], growth=True, name='systematic', label='Systematic uncertainty'),\n",
       "    storage=Double()) # Sum: 2.7804416008088633,\n",
       "  'M3': Hist(\n",
       "    StrCategory(['TTbarPowheg_Semilept'], growth=True, name='dataset', label='Dataset'),\n",
       "    Regular(200, 0, 1000, name='M3', label='$M_3$ [GeV]'),\n",
       "    IntCategory([1, 2, 3, 4, 5], name='category', label='Photon Category'),\n",
       "    StrCategory(['electron', 'muon'], growth=True, name='lepFlavor', label='Lepton flavor'),\n",
       "    StrCategory(['nominal', 'muEffWeightUp', 'muEffWeightDown', 'eleEffWeightUp', 'eleEffWeightDown', 'ISRUp', 'ISRDown', 'FSRUp', 'FSRDown', 'PDFUp', 'PDFDown', 'Q2ScaleUp', 'Q2ScaleDown', 'puWeightUp', 'puWeightDown', 'btagWeightUp', 'btagWeightDown', 'JESUp', 'JESDown', 'JERUp', 'JERDown'], growth=True, name='systematic', label='Systematic uncertainty'),\n",
       "    storage=Double()) # Sum: 133.89908034369526,\n",
       "  'EventCount': 49950},\n",
       " 'TTGamma_SingleLept': {'all_photon_pt': Hist(\n",
       "    StrCategory(['TTGamma_SingleLept'], growth=True, name='dataset', label='Dataset'),\n",
       "    Regular(200, 0, 1000, name='pt', label='$p_{T}$ [GeV]'),\n",
       "    storage=Double()) # Sum: 23691.0,\n",
       "  'photon_pt': Hist(\n",
       "    StrCategory(['TTGamma_SingleLept'], growth=True, name='dataset', label='Dataset'),\n",
       "    Regular(200, 0, 1000, name='pt', label='$p_{T}$ [GeV]'),\n",
       "    IntCategory([1, 2, 3, 4, 5], name='category', label='Photon Category'),\n",
       "    StrCategory(['electron', 'muon'], growth=True, name='lepFlavor', label='Lepton flavor'),\n",
       "    StrCategory(['nominal', 'muEffWeightUp', 'muEffWeightDown', 'eleEffWeightUp', 'eleEffWeightDown', 'ISRUp', 'ISRDown', 'FSRUp', 'FSRDown', 'PDFUp', 'PDFDown', 'Q2ScaleUp', 'Q2ScaleDown', 'puWeightUp', 'puWeightDown', 'btagWeightUp', 'btagWeightDown', 'JESUp', 'JESDown', 'JERUp', 'JERDown'], growth=True, name='systematic', label='Systematic uncertainty'),\n",
       "    storage=Double()) # Sum: 9815.441775689462,\n",
       "  'photon_eta': Hist(\n",
       "    StrCategory(['TTGamma_SingleLept'], growth=True, name='dataset', label='Dataset'),\n",
       "    Regular(300, -1.5, 1.5, name='eta', label='$\\\\eta_{\\\\gamma}$'),\n",
       "    IntCategory([1, 2, 3, 4, 5], name='category', label='Photon Category'),\n",
       "    StrCategory(['electron', 'muon'], growth=True, name='lepFlavor', label='Lepton flavor'),\n",
       "    StrCategory(['nominal', 'muEffWeightUp', 'muEffWeightDown', 'eleEffWeightUp', 'eleEffWeightDown', 'ISRUp', 'ISRDown', 'FSRUp', 'FSRDown', 'PDFUp', 'PDFDown', 'Q2ScaleUp', 'Q2ScaleDown', 'puWeightUp', 'puWeightDown', 'btagWeightUp', 'btagWeightDown', 'JESUp', 'JESDown', 'JERUp', 'JERDown'], growth=True, name='systematic', label='Systematic uncertainty'),\n",
       "    storage=Double()) # Sum: 9815.441775689462,\n",
       "  'photon_chIso': Hist(\n",
       "    StrCategory(['TTGamma_SingleLept'], growth=True, name='dataset', label='Dataset'),\n",
       "    Regular(400, -0.1, 20.001, name='chIso', label='Charged Hadron Isolation'),\n",
       "    IntCategory([1, 2, 3, 4, 5], name='category', label='Photon Category'),\n",
       "    StrCategory(['electron', 'muon'], growth=True, name='lepFlavor', label='Lepton flavor'),\n",
       "    StrCategory(['nominal', 'muEffWeightUp', 'muEffWeightDown', 'eleEffWeightUp', 'eleEffWeightDown', 'ISRUp', 'ISRDown', 'FSRUp', 'FSRDown', 'PDFUp', 'PDFDown', 'Q2ScaleUp', 'Q2ScaleDown', 'puWeightUp', 'puWeightDown', 'btagWeightUp', 'btagWeightDown', 'JESUp', 'JESDown', 'JERUp', 'JERDown'], growth=True, name='systematic', label='Systematic uncertainty'),\n",
       "    storage=Double()) # Sum: 15853.612356833504 (16353.304596176935 with flow),\n",
       "  'photon_lepton_mass_3j0t': Hist(\n",
       "    StrCategory(['TTGamma_SingleLept'], growth=True, name='dataset', label='Dataset'),\n",
       "    Regular(400, 0, 400, name='mass', label='$m_{\\\\ell\\\\gamma}$ [GeV]'),\n",
       "    IntCategory([1, 2, 3, 4, 5], name='category', label='Photon Category'),\n",
       "    StrCategory(['electron', 'muon'], growth=True, name='lepFlavor', label='Lepton flavor'),\n",
       "    StrCategory(['nominal', 'muEffWeightUp', 'muEffWeightDown', 'eleEffWeightUp', 'eleEffWeightDown', 'ISRUp', 'ISRDown', 'FSRUp', 'FSRDown', 'PDFUp', 'PDFDown', 'Q2ScaleUp', 'Q2ScaleDown', 'puWeightUp', 'puWeightDown', 'btagWeightUp', 'btagWeightDown', 'JESUp', 'JESDown', 'JERUp', 'JERDown'], growth=True, name='systematic', label='Systematic uncertainty'),\n",
       "    storage=Double()) # Sum: 3500.9754077217003 (3563.963573055609 with flow),\n",
       "  'M3': Hist(\n",
       "    StrCategory(['TTGamma_SingleLept'], growth=True, name='dataset', label='Dataset'),\n",
       "    Regular(200, 0, 1000, name='M3', label='$M_3$ [GeV]'),\n",
       "    IntCategory([1, 2, 3, 4, 5], name='category', label='Photon Category'),\n",
       "    StrCategory(['electron', 'muon'], growth=True, name='lepFlavor', label='Lepton flavor'),\n",
       "    StrCategory(['nominal', 'muEffWeightUp', 'muEffWeightDown', 'eleEffWeightUp', 'eleEffWeightDown', 'ISRUp', 'ISRDown', 'FSRUp', 'FSRDown', 'PDFUp', 'PDFDown', 'Q2ScaleUp', 'Q2ScaleDown', 'puWeightUp', 'puWeightDown', 'btagWeightUp', 'btagWeightDown', 'JESUp', 'JESDown', 'JERUp', 'JERDown'], growth=True, name='systematic', label='Systematic uncertainty'),\n",
       "    storage=Double()) # Sum: 9787.538000727283 (9815.441775689462 with flow),\n",
       "  'EventCount': 50765}}"
      ]
     },
     "execution_count": 4,
     "metadata": {},
     "output_type": "execute_result"
    }
   ],
   "source": [
    "output"
   ]
  },
  {
   "cell_type": "code",
   "execution_count": 5,
   "metadata": {},
   "outputs": [
    {
     "data": {
      "text/plain": [
       "Hist(\n",
       "  StrCategory(['ZGamma_01J_5f_lowMass', 'WGamma_01J_5f', 'W4jets', 'TTbarPowheg_Semilept', 'TTGamma_SingleLept'], growth=True, name='dataset', label='Dataset'),\n",
       "  Regular(400, -0.1, 20.001, name='chIso', label='Charged Hadron Isolation'),\n",
       "  storage=Double()) # Sum: 809.8701336206443 (849.7587741327945 with flow)"
      ]
     },
     "execution_count": 5,
     "metadata": {},
     "output_type": "execute_result"
    }
   ],
   "source": [
    "import hist\n",
    "import matplotlib.pyplot as plt\n",
    "\n",
    "# Group MC histograms                                                                                                                               \n",
    "histList = [histo for key, histo in output.items()]\n",
    "outputHist = processor.accumulate(histList)\n",
    "\n",
    "h = outputHist['photon_chIso']\n",
    "h = h[{'lepFlavor':sum}]\n",
    "h = h[{'category':sum}]\n",
    "h = h[{'systematic':'nominal'}]\n",
    "\n",
    "h\n"
   ]
  },
  {
   "cell_type": "code",
   "execution_count": 8,
   "metadata": {},
   "outputs": [
    {
     "data": {
      "text/plain": [
       "<matplotlib.legend.Legend at 0x7ff2bc6447c0>"
      ]
     },
     "execution_count": 8,
     "metadata": {},
     "output_type": "execute_result"
    },
    {
     "data": {
      "image/png": "[encoded data removed]",
      "text/plain": [
       "<Figure size 640x480 with 1 Axes>"
      ]
     },
     "metadata": {},
     "output_type": "display_data"
    }
   ],
   "source": [
    "h.plot1d(overlay='dataset')\n",
    "plt.yscale('log')\n",
    "plt.ylim(1e-4, 1000)\n",
    "\n",
    "plt.legend()"
   ]
  },
  {
   "cell_type": "code",
   "execution_count": 9,
   "metadata": {},
   "outputs": [
    {
     "name": "stdout",
     "output_type": "stream",
     "text": [
      "done!\n"
     ]
    }
   ],
   "source": [
    "expected = util.load(\"output_Expected.coffea\")\n",
    "\n",
    "hname = \"photon_chIso\"\n",
    "for samp, histo in expected.items():\n",
    "    mine = output[samp][hname].values()\n",
    "    other = expected[samp][hname].values()\n",
    "    if (~ak.all(mine == other)):\n",
    "        print(key, ak.all(mine == other))\n",
    "print('done!')"
   ]
  },
  {
   "cell_type": "markdown",
   "metadata": {},
   "source": [
    "# Accessing Arrays Interactively"
   ]
  },
  {
   "cell_type": "markdown",
   "metadata": {},
   "source": [
    "Below is an example of loading a NanoAOD file interactively. This can be very useful for developing the code, and debugging any issues. Use this area to build your intuition for working with Coffea and awkward arrays!"
   ]
  },
  {
   "cell_type": "code",
   "execution_count": 10,
   "metadata": {},
   "outputs": [],
   "source": [
    "import awkward as ak\n",
    "from coffea.nanoevents import NanoEventsFactory, NanoAODSchema\n",
    "\n",
    "fname = fileset[\"TTGamma_SingleLept\"][0]\n",
    "events = NanoEventsFactory.from_root(fname, schemaclass=NanoAODSchema).events()"
   ]
  },
  {
   "cell_type": "markdown",
   "metadata": {},
   "source": [
    "Once you have opened the file, you can explore its contents using the 'fields' syntax"
   ]
  },
  {
   "cell_type": "code",
   "execution_count": null,
   "metadata": {},
   "outputs": [],
   "source": [
    "events[\"Photon\", \"charge\"] = 0\n",
    "leadingMuon = ak.firsts(events.Muon)\n",
    "leadingPhoton = ak.firsts(events.Photon)\n",
    "leadingElectron = ak.firsts(events.Electron)"
   ]
  },
  {
   "cell_type": "code",
   "execution_count": null,
   "metadata": {},
   "outputs": [],
   "source": [
    "(leadingMuon + leadingPhoton).mass"
   ]
  },
  {
   "cell_type": "code",
   "execution_count": null,
   "metadata": {},
   "outputs": [],
   "source": [
    "mugammapairs = ak.cartesian({\"mu\":events.Muon, \"gamma\":events.Photon})\n",
    "(mugammapairs.mu + mugammapairs.gamma).mass"
   ]
  },
  {
   "cell_type": "code",
   "execution_count": null,
   "metadata": {},
   "outputs": [],
   "source": [
    "leadingMuon"
   ]
  },
  {
   "cell_type": "code",
   "execution_count": null,
   "metadata": {},
   "outputs": [],
   "source": [
    "print(leadingMuon)"
   ]
  },
  {
   "cell_type": "code",
   "execution_count": null,
   "metadata": {},
   "outputs": [],
   "source": [
    "type(leadingMuon)"
   ]
  },
  {
   "cell_type": "code",
   "execution_count": null,
   "metadata": {},
   "outputs": [],
   "source": [
    "from ttgamma.scalefactors import mu_trig_err\n",
    "\n",
    "mu_trig_err"
   ]
  },
  {
   "cell_type": "code",
   "execution_count": null,
   "metadata": {},
   "outputs": [],
   "source": [
    "mu_trig_err(1.2, 36)"
   ]
  },
  {
   "cell_type": "code",
   "execution_count": null,
   "metadata": {},
   "outputs": [],
   "source": [
    "events.Photon.matched_gen.fields"
   ]
  },
  {
   "cell_type": "code",
   "execution_count": null,
   "metadata": {},
   "outputs": [],
   "source": [
    "events.GenPart.fields"
   ]
  },
  {
   "cell_type": "markdown",
   "metadata": {},
   "source": [
    "There is also a docstring for each of these variables in NanoAOD, which you can access using '?':"
   ]
  },
  {
   "cell_type": "code",
   "execution_count": null,
   "metadata": {},
   "outputs": [],
   "source": [
    "events.Jet.rawFactor?"
   ]
  },
  {
   "cell_type": "code",
   "execution_count": null,
   "metadata": {},
   "outputs": [],
   "source": []
  }
 ],
 "metadata": {
  "kernelspec": {
   "display_name": "Python 3 (ipykernel)",
   "language": "python",
   "name": "python3"
  },
  "language_info": {
   "codemirror_mode": {
    "name": "ipython",
    "version": 3
   },
   "file_extension": ".py",
   "mimetype": "text/x-python",
   "name": "python",
   "nbconvert_exporter": "python",
   "pygments_lexer": "ipython3",
   "version": "3.8.13"
  }
 },
 "nbformat": 4,
 "nbformat_minor": 2
}
